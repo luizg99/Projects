{
 "cells": [
  {
   "cell_type": "code",
   "execution_count": null,
   "id": "initial_id",
   "metadata": {
    "collapsed": true,
    "is_executing": true,
    "ExecuteTime": {
     "start_time": "2023-09-06T01:33:17.171365700Z"
    }
   },
   "outputs": [],
   "source": [
    "import tkinter as tk\n",
    "import json\n",
    "\n",
    "# Função para abrir a janela de cadastro de mensagens de saudação\n",
    "def abrir_janela_cadastro():\n",
    "    janela_cadastro = tk.Toplevel(janela_principal)\n",
    "    janela_cadastro.title(\"Cadastro de Mensagens de Saudação\")\n",
    "    \n",
    "    mensagem_saudacao_label = tk.Label(janela_cadastro, text=\"Insira as mensagens de saudação (uma por linha):\")\n",
    "    mensagem_saudacao_label.pack()\n",
    "    \n",
    "    mensagem_saudacao_entry = tk.Text(janela_cadastro, height=10, width=30)\n",
    "    mensagem_saudacao_entry.pack()\n",
    "    \n",
    "    # Preenche a caixa de texto com as mensagens cadastradas, se houver\n",
    "    if MensagensSaudacao:\n",
    "        mensagem_saudacao_entry.insert(\"1.0\", \"\\n\".join(MensagensSaudacao))\n",
    "    \n",
    "    cadastrar_button = tk.Button(janela_cadastro, text=\"Cadastrar\", command=lambda: cadastrar_mensagens_saudacao(mensagem_saudacao_entry))\n",
    "    cadastrar_button.pack()\n",
    "    \n",
    "    janela_cadastro.transient(janela_principal)  # Define a janela de cadastro como janela filha da janela principal\n",
    "    janela_cadastro.grab_set()  # Impede que a janela principal seja clicada enquanto a janela de cadastro estiver aberta\n",
    "\n",
    "# Função para cadastrar mensagens de saudação\n",
    "def cadastrar_mensagens_saudacao(mensagem_saudacao_entry):\n",
    "    mensagens = mensagem_saudacao_entry.get(\"1.0\", \"end-1c\").split('\\n')\n",
    "    mensagens = [msg.strip() for msg in mensagens if msg.strip()]\n",
    "    \n",
    "    if mensagens:\n",
    "        MensagensSaudacao.clear()\n",
    "        MensagensSaudacao.extend(mensagens)\n",
    "        status_label.config(text=\"Mensagens de saudação cadastradas com sucesso!\")\n",
    "        salvar_mensagens_saudacao()\n",
    "\n",
    "# Função para salvar as mensagens cadastradas em um arquivo JSON\n",
    "def salvar_mensagens_saudacao():\n",
    "    with open(\"MensagensSaudacao.json\", \"w\") as arquivo_json:\n",
    "        json.dump({\"MensagensSaudacao\": MensagensSaudacao}, arquivo_json)\n",
    "    status_label.config(text=\"Mensagens cadastradas salvas com sucesso!\")\n",
    "\n",
    "# Cria a janela principal\n",
    "janela_principal = tk.Tk()\n",
    "janela_principal.title(\"Interface Principal\")\n",
    "\n",
    "# Cria um botão para abrir a janela de cadastro de mensagens de saudação\n",
    "abrir_janela_button = tk.Button(janela_principal, text=\"Cadastrar Mensagem Saudação\", command=abrir_janela_cadastro)\n",
    "abrir_janela_button.pack()\n",
    "\n",
    "# Cria um rótulo para exibir o status\n",
    "status_label = tk.Label(janela_principal, text=\"\")\n",
    "status_label.pack()\n",
    "\n",
    "# Inicializa a lista de mensagens de saudação\n",
    "MensagensSaudacao = []\n",
    "\n",
    "# Inicializa a lista de mensagens de saudação com mensagens padrão, se houver\n",
    "try:\n",
    "    with open(\"MensagensSaudacao.json\", \"r\") as arquivo_json:\n",
    "        dados = json.load(arquivo_json)\n",
    "        if \"MensagensSaudacao\" in dados:\n",
    "            MensagensSaudacao = dados[\"MensagensSaudacao\"]\n",
    "except FileNotFoundError:\n",
    "    pass\n",
    "\n",
    "# Inicia a interface gráfica\n",
    "janela_principal.mainloop()"
   ]
  },
  {
   "cell_type": "code",
   "execution_count": null,
   "outputs": [],
   "source": [],
   "metadata": {
    "collapsed": false,
    "ExecuteTime": {
     "end_time": "2023-09-06T01:28:02.571429200Z",
     "start_time": "2023-09-06T01:28:02.570429500Z"
    }
   },
   "id": "dbee3c9268d9d74c"
  }
 ],
 "metadata": {
  "kernelspec": {
   "display_name": "Python 3",
   "language": "python",
   "name": "python3"
  },
  "language_info": {
   "codemirror_mode": {
    "name": "ipython",
    "version": 2
   },
   "file_extension": ".py",
   "mimetype": "text/x-python",
   "name": "python",
   "nbconvert_exporter": "python",
   "pygments_lexer": "ipython2",
   "version": "2.7.6"
  }
 },
 "nbformat": 4,
 "nbformat_minor": 5
}
